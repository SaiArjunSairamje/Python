{
 "cells": [
  {
   "cell_type": "markdown",
   "id": "0eb03044",
   "metadata": {},
   "source": [
    "# <center><ins>Variables in Python</ins></center>\n",
    "\n",
    "**<ins>Topics covered:</ins>**\n",
    "\n",
    "* Introduction to Python Variables\n",
    "* Variable Naming Convention\n",
    "* How to Declare a Variable in Python?\n",
    "* How to re-declare a Variable in Python?\n",
    "* Variable Assignments\n",
    "    > Variable Assigment\n",
    "\t> Multiple assignments\n",
    "       (1) Assigning a single value to variables in Python                         \n",
    "       (2) Assigning multiple values to multiple variables                                          \n",
    "       (3) Assigning multiple values to the same/single variable at once\n",
    "* Variable Types in Python\n",
    "\t> Local Variable                                                \n",
    "\t> Global Variable\n",
    "* How to Delete a Variable in Python?\n",
    "* Object References\n",
    "* Object Identity\n",
    "* Learning Outcomes\n",
    "\n",
    "**Source Link:** https://www.scaler.com/topics/python/variables-in-python/"
   ]
  },
  {
   "cell_type": "markdown",
   "id": "5209582f",
   "metadata": {},
   "source": [
    "### **<ins>1. Introduction to Python Variables</ins>**\n",
    "\n",
    "To put it simply, **variables** in Python are **named memory locations**. This named memory location **stores data**. Hence, a variable is used to retrieve this data, and its value may change during the program.\n",
    "\n",
    "Also, we don't need to declare a **variable** before using it. In Python, we simply assign a value to a **variable** and it will exist. We don't even have to declare the type of the **variable**. This is handled internally according to the type of value we assign to the **variable**.\n",
    "\n",
    "**To summarize,**\n",
    "\n",
    "> **\"Variable\"** is a name which is used to refer **memory location**. They are given unique names to differentiate between different memory locations. \n",
    "\n",
    "<img src=https://scaler.com/topics/images/variables-in-python-are-named-memory-locations.webp width=\"500\">\n",
    "\n",
    "### **<ins>2. Variable Naming Convention</ins>**\n",
    "\n",
    "The rules for writing a **variable name** is same as the rules for writing **identifiers** in Python.\n",
    "\n",
    "**Variables** in Python are a type of **identifier**. **Identifiers** are widely used to identify **literals** in a program.\n",
    "\n",
    "Rules for naming a variable are as follows –\n",
    "\n",
    "> The variable name should either begin with an Uppercase(A to Z) or Lowercase(a to z) character or an underscore(_).\n",
    "\n",
    "> One should always remember to use a meaningful name for variables in Python. For example – <font color='red'>no_of_chocolates</font> makes more sense than noc.\n",
    "\n",
    "> Which brings us to the next point. If a variable has multiple words, it is advised to separate them with an underscore.\n",
    "\n",
    "> One should ensure that a variable name should not be similar to keywords of the programming language.\n",
    "\n",
    "> One should also remember that even variable names are case-sensitive.\n",
    "\n",
    "> A variable should not begin with a digit or contain any white spaces or special characters such as #,@,&.\n",
    "\n",
    "**<ins>Example:</ins>** good variable names - <font color='red'> my_name, my_dob.</font>                                  \n",
    "**<ins>Example:</ins>** bad variable names - <font color='red'> #n, 22dob.</font>\n",
    "\n",
    "### **<ins>3. How to Declare a Variable in Python?</ins>**\n",
    "\n",
    "There is no binding in Python to declare variables before we use it. We also need not explicitly declare variables with their data type. When we assign a value to Python variables, they are automatically declared.\n",
    "\n",
    "We use the <font color='red'>“=”</font> operator for value assignment.\n",
    "\n",
    "**<ins>For example:</ins>**\n",
    "\n",
    "If we want to declare a variable that should hold the total number of chocolates we have, which is 10, we can do it in the following way –"
   ]
  },
  {
   "cell_type": "code",
   "execution_count": 2,
   "id": "ff62ee19",
   "metadata": {},
   "outputs": [],
   "source": [
    "no_of_chocolates = 10"
   ]
  },
  {
   "cell_type": "code",
   "execution_count": 3,
   "id": "7fd778a1",
   "metadata": {},
   "outputs": [
    {
     "data": {
      "text/plain": [
       "5000"
      ]
     },
     "execution_count": 3,
     "metadata": {},
     "output_type": "execute_result"
    }
   ],
   "source": [
    "# variable(integer)\n",
    "salary = 5000  \n",
    "salary"
   ]
  },
  {
   "cell_type": "code",
   "execution_count": 4,
   "id": "7e1e2ecd",
   "metadata": {},
   "outputs": [
    {
     "name": "stdout",
     "output_type": "stream",
     "text": [
      "5000\n"
     ]
    }
   ],
   "source": [
    "print(salary)"
   ]
  },
  {
   "cell_type": "markdown",
   "id": "276cfa4b",
   "metadata": {},
   "source": [
    "**<ins>NOTE:</ins> What's the different between using only the \"Variable name to print\" vs \"print() statement to print\"???** "
   ]
  },
  {
   "cell_type": "code",
   "execution_count": 5,
   "id": "2804edb1",
   "metadata": {},
   "outputs": [],
   "source": [
    "\n",
    "# variable(string)\n",
    "name = 'Abhishek'"
   ]
  },
  {
   "cell_type": "code",
   "execution_count": 6,
   "id": "e351e468",
   "metadata": {},
   "outputs": [
    {
     "data": {
      "text/plain": [
       "'Abhishek'"
      ]
     },
     "execution_count": 6,
     "metadata": {},
     "output_type": "execute_result"
    }
   ],
   "source": [
    "name"
   ]
  },
  {
   "cell_type": "code",
   "execution_count": 7,
   "id": "711a1dd4",
   "metadata": {},
   "outputs": [
    {
     "name": "stdout",
     "output_type": "stream",
     "text": [
      "Abhishek\n"
     ]
    }
   ],
   "source": [
    "print(name)"
   ]
  },
  {
   "cell_type": "markdown",
   "id": "e53ce7eb",
   "metadata": {},
   "source": [
    "Hence, we can see that the **print()** statemen **ignores** the **\"Data type\"** of the variable"
   ]
  },
  {
   "cell_type": "markdown",
   "id": "7e1ebab6",
   "metadata": {},
   "source": [
    "**<ins>NOTE:</ins> How to check type of data in Python???** \n",
    "\n",
    "We have the **type()** function which gives the data type of the variable"
   ]
  },
  {
   "cell_type": "code",
   "execution_count": 11,
   "id": "4d45f4f5",
   "metadata": {},
   "outputs": [
    {
     "name": "stdout",
     "output_type": "stream",
     "text": [
      "Abhishek\n"
     ]
    }
   ],
   "source": [
    "# Example of String data type\n",
    "name1 = 'Abhishek'\n",
    "print(name1)"
   ]
  },
  {
   "cell_type": "code",
   "execution_count": 12,
   "id": "4f251c83",
   "metadata": {},
   "outputs": [
    {
     "data": {
      "text/plain": [
       "str"
      ]
     },
     "execution_count": 12,
     "metadata": {},
     "output_type": "execute_result"
    }
   ],
   "source": [
    "type(name1)"
   ]
  },
  {
   "cell_type": "code",
   "execution_count": 14,
   "id": "3e0d44ee",
   "metadata": {},
   "outputs": [
    {
     "name": "stdout",
     "output_type": "stream",
     "text": [
      "600\n"
     ]
    }
   ],
   "source": [
    "# Example of Integer data type\n",
    "salary = 600\n",
    "print(salary)"
   ]
  },
  {
   "cell_type": "code",
   "execution_count": 15,
   "id": "8e276cdc",
   "metadata": {},
   "outputs": [
    {
     "data": {
      "text/plain": [
       "int"
      ]
     },
     "execution_count": 15,
     "metadata": {},
     "output_type": "execute_result"
    }
   ],
   "source": [
    "type(salary)"
   ]
  },
  {
   "cell_type": "markdown",
   "id": "0729983b",
   "metadata": {},
   "source": [
    "**<ins>NOTE:</ins> How to print data with some pre-defined message???** "
   ]
  },
  {
   "cell_type": "code",
   "execution_count": 16,
   "id": "07e5a57f",
   "metadata": {},
   "outputs": [
    {
     "data": {
      "text/plain": [
       "600"
      ]
     },
     "execution_count": 16,
     "metadata": {},
     "output_type": "execute_result"
    }
   ],
   "source": [
    "salary"
   ]
  },
  {
   "cell_type": "code",
   "execution_count": 19,
   "id": "eb483a6b",
   "metadata": {},
   "outputs": [
    {
     "name": "stdout",
     "output_type": "stream",
     "text": [
      "Hello! You have Salary: 600\n"
     ]
    }
   ],
   "source": [
    "# this is fixed or pre-defind message\n",
    "print(f\"Hello! You have Salary: {salary}\")  "
   ]
  },
  {
   "cell_type": "markdown",
   "id": "f28bbc8f",
   "metadata": {},
   "source": [
    "**<ins>NOTE:</ins> How to take Input from user and provide Output???** \n",
    "\n",
    "Using **input()** function\n",
    "\n",
    "**Remember,** the **input()** function gives only the **\"String\"** type input value"
   ]
  },
  {
   "cell_type": "code",
   "execution_count": 20,
   "id": "b5a84f97",
   "metadata": {},
   "outputs": [
    {
     "name": "stdout",
     "output_type": "stream",
     "text": [
      "Enter your name: Sai Arjun S\n"
     ]
    }
   ],
   "source": [
    "# Taking Input\n",
    "nm = input(\"Enter your name: \")"
   ]
  },
  {
   "cell_type": "code",
   "execution_count": 21,
   "id": "258f15b7",
   "metadata": {},
   "outputs": [
    {
     "name": "stdout",
     "output_type": "stream",
     "text": [
      "Sai Arjun S\n"
     ]
    }
   ],
   "source": [
    "print(nm)"
   ]
  },
  {
   "cell_type": "code",
   "execution_count": 24,
   "id": "790375e3",
   "metadata": {},
   "outputs": [
    {
     "name": "stdout",
     "output_type": "stream",
     "text": [
      "Enter your name: Sai Arjun S\n",
      "Hello Sai Arjun S,! Very good morning\n"
     ]
    }
   ],
   "source": [
    "# Taking Input & providing Output\n",
    "# in this case, \"Hello\" & \"! Very good morning\" are the Pre-defined messages\n",
    "\n",
    "nm1 = input(\"Enter your name: \")\n",
    "print(f\"Hello {nm1},! Very good morning\")    "
   ]
  },
  {
   "cell_type": "markdown",
   "id": "9c9511a7",
   "metadata": {},
   "source": [
    "**<ins>NOTE:</ins> Write a program (WAP) to calculate area of a square (rectangle)** "
   ]
  },
  {
   "cell_type": "code",
   "execution_count": 25,
   "id": "f27d7821",
   "metadata": {},
   "outputs": [
    {
     "name": "stdout",
     "output_type": "stream",
     "text": [
      "The area of Rectangle is:  60\n"
     ]
    }
   ],
   "source": [
    "length = 6\n",
    "width = 10\n",
    "area = length * width\n",
    "print(\"The area of Rectangle is: \", area)  #this is done manually"
   ]
  },
  {
   "cell_type": "markdown",
   "id": "2ad858bb",
   "metadata": {},
   "source": [
    "**<ins>NOTE:</ins> How to take Integer Input from user???** "
   ]
  },
  {
   "cell_type": "code",
   "execution_count": 26,
   "id": "864166e9",
   "metadata": {},
   "outputs": [
    {
     "name": "stdout",
     "output_type": "stream",
     "text": [
      "Enter Length: 35\n",
      "Enter Width: 76\n"
     ]
    },
    {
     "ename": "TypeError",
     "evalue": "can't multiply sequence by non-int of type 'str'",
     "output_type": "error",
     "traceback": [
      "\u001b[1;31m---------------------------------------------------------------------------\u001b[0m",
      "\u001b[1;31mTypeError\u001b[0m                                 Traceback (most recent call last)",
      "\u001b[1;32m<ipython-input-26-d803800d4ee2>\u001b[0m in \u001b[0;36m<module>\u001b[1;34m\u001b[0m\n\u001b[0;32m      1\u001b[0m \u001b[0mlength\u001b[0m \u001b[1;33m=\u001b[0m \u001b[0minput\u001b[0m\u001b[1;33m(\u001b[0m\u001b[1;34m\"Enter Length: \"\u001b[0m\u001b[1;33m)\u001b[0m\u001b[1;33m\u001b[0m\u001b[1;33m\u001b[0m\u001b[0m\n\u001b[0;32m      2\u001b[0m \u001b[0mwidth\u001b[0m \u001b[1;33m=\u001b[0m \u001b[0minput\u001b[0m\u001b[1;33m(\u001b[0m\u001b[1;34m\"Enter Width: \"\u001b[0m\u001b[1;33m)\u001b[0m\u001b[1;33m\u001b[0m\u001b[1;33m\u001b[0m\u001b[0m\n\u001b[1;32m----> 3\u001b[1;33m \u001b[0marea\u001b[0m \u001b[1;33m=\u001b[0m \u001b[0mlength\u001b[0m \u001b[1;33m*\u001b[0m \u001b[0mwidth\u001b[0m\u001b[1;33m\u001b[0m\u001b[1;33m\u001b[0m\u001b[0m\n\u001b[0m\u001b[0;32m      4\u001b[0m \u001b[0mprint\u001b[0m\u001b[1;33m(\u001b[0m\u001b[1;34m'The Area of Recangle is :'\u001b[0m\u001b[1;33m,\u001b[0m \u001b[0marea\u001b[0m\u001b[1;33m)\u001b[0m   \u001b[1;31m#this will through an error\u001b[0m\u001b[1;33m\u001b[0m\u001b[1;33m\u001b[0m\u001b[0m\n",
      "\u001b[1;31mTypeError\u001b[0m: can't multiply sequence by non-int of type 'str'"
     ]
    }
   ],
   "source": [
    "length = input(\"Enter Length: \")\n",
    "width = input(\"Enter Width: \")\n",
    "area = length * width\n",
    "print('The Area of Recangle is :', area)   #this will through an error"
   ]
  },
  {
   "cell_type": "markdown",
   "id": "a0dee264",
   "metadata": {},
   "source": [
    "**<ins>NOTE:</ins> How to fix the above error???**\n",
    "    \n",
    "We need to change the data type in order to proceed further."
   ]
  },
  {
   "cell_type": "code",
   "execution_count": 28,
   "id": "a3035650",
   "metadata": {},
   "outputs": [
    {
     "name": "stdout",
     "output_type": "stream",
     "text": [
      "Enter Length: 45\n",
      "Enter Width: 76\n",
      "The Area of Recangle is : 3420\n"
     ]
    }
   ],
   "source": [
    "length = int(input(\"Enter Length: \"))\n",
    "width = int(input(\"Enter Width: \"))\n",
    "area = length * width\n",
    "print('The Area of Recangle is :', area)"
   ]
  },
  {
   "cell_type": "markdown",
   "id": "c761a374",
   "metadata": {},
   "source": [
    "### **<ins>4. How to re-declare a Variable in Python?</ins>**\n",
    "\n",
    "Variables in Python can also be redeclared with ease. We assign a new value to the variable before it is used again.\n",
    "\n",
    "Let’s look at an example to understand this better –"
   ]
  },
  {
   "cell_type": "code",
   "execution_count": 29,
   "id": "54b84e03",
   "metadata": {},
   "outputs": [
    {
     "name": "stdout",
     "output_type": "stream",
     "text": [
      "Value as per the first declaration: 111\n"
     ]
    }
   ],
   "source": [
    "value=111\n",
    "print(\"Value as per the first declaration:\", value)"
   ]
  },
  {
   "cell_type": "code",
   "execution_count": 30,
   "id": "3f56bb40",
   "metadata": {},
   "outputs": [
    {
     "name": "stdout",
     "output_type": "stream",
     "text": [
      "Re-declared value: 222\n"
     ]
    }
   ],
   "source": [
    "value=222\n",
    "print(\"Re-declared value:\", value)"
   ]
  },
  {
   "cell_type": "markdown",
   "id": "d60d7f0e",
   "metadata": {},
   "source": [
    "### **<ins>5. Variable Assignments</ins>**\n",
    "\n",
    "    (1) Variable Assigment\n",
    "    (2) Multiple assignments\n",
    "       - Assigning a single value to variables in Python                         \n",
    "       - Assigning multiple values to multiple variables                                          \n",
    "       - Assigning multiple values to the same/single variable at once"
   ]
  },
  {
   "cell_type": "code",
   "execution_count": 1,
   "id": "a8c149e4",
   "metadata": {},
   "outputs": [],
   "source": [
    "# We use the assignment operator (=) to assign values to a variable\n",
    "\n",
    "a = 10\n",
    "b = 5.5\n",
    "c = \"ML\""
   ]
  },
  {
   "cell_type": "code",
   "execution_count": 2,
   "id": "c8d79dd1",
   "metadata": {},
   "outputs": [],
   "source": [
    "# The assignment is from Right hand side (R.H.S) to Left hand side (L.H.S)\n",
    "# assigning value 5 to the variable x (i.e. L.H.S   <==   R.H.S)\n",
    "\n",
    "x = 5   "
   ]
  },
  {
   "cell_type": "markdown",
   "id": "1406cbc5",
   "metadata": {},
   "source": [
    "### - Assigning a single value to variables in Python\n",
    "\n",
    "Instead of declaring Python variables with the same values one after the other, we can use the following technique to assign a single value to multiple variables."
   ]
  },
  {
   "cell_type": "code",
   "execution_count": 3,
   "id": "8365492e",
   "metadata": {},
   "outputs": [
    {
     "name": "stdout",
     "output_type": "stream",
     "text": [
      "1052\n",
      "1052\n",
      "1052\n"
     ]
    }
   ],
   "source": [
    "num1 = num2 = num3 = 1052\n",
    "print(num1)\n",
    "print(num2)\n",
    "print(num3)"
   ]
  },
  {
   "cell_type": "code",
   "execution_count": 5,
   "id": "cf9896c9",
   "metadata": {},
   "outputs": [
    {
     "name": "stdout",
     "output_type": "stream",
     "text": [
      "50\n",
      "50\n",
      "50\n"
     ]
    }
   ],
   "source": [
    "x = y = z = 50\n",
    "print(x)\n",
    "print(y)\n",
    "print(z)"
   ]
  },
  {
   "cell_type": "code",
   "execution_count": 6,
   "id": "2f685f9d",
   "metadata": {},
   "outputs": [
    {
     "name": "stdout",
     "output_type": "stream",
     "text": [
      "AI\n",
      "AI\n",
      "AI\n"
     ]
    }
   ],
   "source": [
    "a = b = c = \"AI\"\n",
    "print(a)\n",
    "print(b)\n",
    "print(c)"
   ]
  },
  {
   "cell_type": "markdown",
   "id": "f45161ed",
   "metadata": {},
   "source": [
    "### - Assigning multiple values to multiple variables\n",
    "\n",
    "Another ease offered by Python variables is **multiple assignments**!\n",
    "\n",
    "What do **multiple assignments** mean? Well, to put it simply, we can declare multiple variables in Python in just one line!\n",
    "\n",
    "Take a look at the following code snippet to understand this better."
   ]
  },
  {
   "cell_type": "code",
   "execution_count": 4,
   "id": "6640a06c",
   "metadata": {},
   "outputs": [
    {
     "name": "stdout",
     "output_type": "stream",
     "text": [
      "10\n",
      "Hello World\n",
      "22.5\n"
     ]
    }
   ],
   "source": [
    "whole_number, str, decimal = 10, \"Hello World\", 22.50\n",
    "print(whole_number)\n",
    "print(str)\n",
    "print(decimal)"
   ]
  },
  {
   "cell_type": "code",
   "execution_count": 7,
   "id": "84745a56",
   "metadata": {},
   "outputs": [
    {
     "name": "stdout",
     "output_type": "stream",
     "text": [
      "7\n",
      "8\n",
      "9\n",
      "3\n"
     ]
    }
   ],
   "source": [
    "a, b, c, d = 7, 8, 9, 3\n",
    "print(a)\n",
    "print(b)\n",
    "print(c)\n",
    "print(d)"
   ]
  },
  {
   "cell_type": "markdown",
   "id": "8c836806",
   "metadata": {},
   "source": [
    "### - Assigning multiple values to the same/single variable at once"
   ]
  },
  {
   "cell_type": "code",
   "execution_count": 8,
   "id": "5e0f4ecf",
   "metadata": {},
   "outputs": [
    {
     "ename": "SyntaxError",
     "evalue": "cannot assign to literal (<ipython-input-8-a8ea140dd541>, line 2)",
     "output_type": "error",
     "traceback": [
      "\u001b[1;36m  File \u001b[1;32m\"<ipython-input-8-a8ea140dd541>\"\u001b[1;36m, line \u001b[1;32m2\u001b[0m\n\u001b[1;33m    a = 10 = 12= 14\u001b[0m\n\u001b[1;37m        ^\u001b[0m\n\u001b[1;31mSyntaxError\u001b[0m\u001b[1;31m:\u001b[0m cannot assign to literal\n"
     ]
    }
   ],
   "source": [
    "# NOTE: We cannot assign multiple values to the same variable by using \"equal (=)\" operator to each values\n",
    "a = 10 = 12= 14      "
   ]
  },
  {
   "cell_type": "code",
   "execution_count": 11,
   "id": "67b05735",
   "metadata": {},
   "outputs": [
    {
     "name": "stdout",
     "output_type": "stream",
     "text": [
      "(10, 12, 14)\n"
     ]
    }
   ],
   "source": [
    "a = 10, 12, 14         \n",
    "print(a)"
   ]
  },
  {
   "cell_type": "code",
   "execution_count": 12,
   "id": "7f073a1b",
   "metadata": {},
   "outputs": [
    {
     "data": {
      "text/plain": [
       "tuple"
      ]
     },
     "execution_count": 12,
     "metadata": {},
     "output_type": "execute_result"
    }
   ],
   "source": [
    "type(a)"
   ]
  },
  {
   "cell_type": "code",
   "execution_count": 13,
   "id": "efa8f163",
   "metadata": {},
   "outputs": [
    {
     "name": "stdout",
     "output_type": "stream",
     "text": [
      "(10, 5.5, 'ML')\n"
     ]
    },
    {
     "data": {
      "text/plain": [
       "tuple"
      ]
     },
     "execution_count": 13,
     "metadata": {},
     "output_type": "execute_result"
    }
   ],
   "source": [
    "d = 10, 5.5, 'ML'  \n",
    "print(d)\n",
    "type(d)"
   ]
  },
  {
   "cell_type": "markdown",
   "id": "8f529568",
   "metadata": {},
   "source": [
    "### **<ins>6. Variable Types in Python</ins>**\n",
    "\n",
    "Consider a hypothetical scenario: Variables are like you and me, too, like to travel. If I wish to travel to Canada, I would need a VISA and my passport. But if I wish to travel to any place within India, I do not require a VISA. Hence, these travels are global and local, respectively.\n",
    "\n",
    "Now, back to the beginning, we considered the variables to be like us. So even variables have two scopes- **global** and **local**. And thus, their utility and mode of access are determined by their nature-i.e, whether local or global.\n",
    "\n",
    "Hence, through this example, it is illustrated that variables in Python can be of two types –\n",
    "\n",
    "<img src=\"https://scaler.com/topics/images/global-and-local-scope-in-python-variable-1024x928.webp\" width=\"500\">\n",
    "\n",
    "### **1. Local Variable in Python**\n",
    "\n",
    "The variables declared inside a function and used only within the scope of that particular function are known as local variables.\n",
    "\n",
    "Let’s look at an example to understand this better –"
   ]
  },
  {
   "cell_type": "code",
   "execution_count": 21,
   "id": "2d74a6b5",
   "metadata": {},
   "outputs": [
    {
     "name": "stdout",
     "output_type": "stream",
     "text": [
      "35\n"
     ]
    }
   ],
   "source": [
    "def sum():\n",
    "    num1=10 #local variable\n",
    "    num2=25 #local variable\n",
    "    sum=num1+num2\n",
    "    print(sum)\n",
    "sum()"
   ]
  },
  {
   "cell_type": "markdown",
   "id": "cb064f62",
   "metadata": {},
   "source": [
    "The local variables <font color='red'>num1</font> and <font color='red'>num2</font> are defined within the function <font color='red'>sum</font> and can be referenced only within the scope of <font color='red'>sum</font>.\n",
    "\n",
    "If we try to refer, say <font color='red'>num1</font>, outside the scope, we would get the following error..."
   ]
  },
  {
   "cell_type": "code",
   "execution_count": 1,
   "id": "9738a4d4",
   "metadata": {},
   "outputs": [
    {
     "name": "stdout",
     "output_type": "stream",
     "text": [
      "35\n"
     ]
    },
    {
     "ename": "NameError",
     "evalue": "name 'num1' is not defined",
     "output_type": "error",
     "traceback": [
      "\u001b[1;31m---------------------------------------------------------------------------\u001b[0m",
      "\u001b[1;31mNameError\u001b[0m                                 Traceback (most recent call last)",
      "\u001b[1;32m<ipython-input-1-b408cf38d18a>\u001b[0m in \u001b[0;36m<module>\u001b[1;34m\u001b[0m\n\u001b[0;32m      5\u001b[0m     \u001b[0mprint\u001b[0m\u001b[1;33m(\u001b[0m\u001b[0msum\u001b[0m\u001b[1;33m)\u001b[0m\u001b[1;33m\u001b[0m\u001b[1;33m\u001b[0m\u001b[0m\n\u001b[0;32m      6\u001b[0m \u001b[0msum\u001b[0m\u001b[1;33m(\u001b[0m\u001b[1;33m)\u001b[0m\u001b[1;33m\u001b[0m\u001b[1;33m\u001b[0m\u001b[0m\n\u001b[1;32m----> 7\u001b[1;33m \u001b[0mprint\u001b[0m\u001b[1;33m(\u001b[0m\u001b[0mnum1\u001b[0m\u001b[1;33m)\u001b[0m \u001b[1;31m#accessing the variable outside the scope\u001b[0m\u001b[1;33m\u001b[0m\u001b[1;33m\u001b[0m\u001b[0m\n\u001b[0m",
      "\u001b[1;31mNameError\u001b[0m: name 'num1' is not defined"
     ]
    }
   ],
   "source": [
    "def sum():\n",
    "    num1=10 #local variable\n",
    "    num2=25 #local variable\n",
    "    sum=num1+num2\n",
    "    print(sum)\n",
    "sum()\n",
    "print(num1) #accessing the variable outside the scope"
   ]
  },
  {
   "cell_type": "markdown",
   "id": "44f9d860",
   "metadata": {},
   "source": [
    "### **2. Global Variable in Python**\n",
    "\n",
    "The variables that can be used throughout the program and its scope are global, i.e. available within the entire codebase are known as global variables.\n",
    "\n",
    "Any variable declared outside any particular function is considered a global variable.\n",
    "\n",
    "Let’s modify the local variable example to illustrate a global variable and its scope."
   ]
  },
  {
   "cell_type": "code",
   "execution_count": 22,
   "id": "8ff255f4",
   "metadata": {},
   "outputs": [
    {
     "name": "stdout",
     "output_type": "stream",
     "text": [
      "65\n",
      "30\n"
     ]
    }
   ],
   "source": [
    "num=30 #global variable\n",
    "def sum():\n",
    "    num1=10 #local variable\n",
    "    num2=25 #local variable\n",
    "    sum=num1+num2+num #using global variable within a function\n",
    "    print(sum)\n",
    "sum()\n",
    "print(num) #accessing the global variable outside the function"
   ]
  },
  {
   "cell_type": "markdown",
   "id": "1c010be7",
   "metadata": {},
   "source": [
    "From the output, we can make out that <font color='red'>num</font> has acted as a global variable as we have used it inside and outside the <font color='red'>sum()</font> function and we were able to print its value to the console as well."
   ]
  },
  {
   "cell_type": "markdown",
   "id": "ce598394",
   "metadata": {},
   "source": [
    "### **<ins>7. How to Delete a Variable in Python?</ins>**\n",
    "\n",
    "Just like declaring and using variables in Python is so easy, even deleting a Python variable is not a difficult task either.\n",
    "\n",
    "Python automatically deletes variables and functions when they can no longer be used, freeing the memory. The user can also manually delete variables and functions. It can be useful when large data structures are no longer needed since deleting them will free memory for other uses. It is why Python offers its users the delete functionality.\n",
    "\n",
    "You can delete a variable using the <font color='red'>del</font> command in Python.\n",
    "\n",
    "Let’s take a look at how we do it practically and what is the output that we get –\n",
    "\n",
    "Here, we have re-used our <font color='red'>total number of chocolates</font> example. We declared it initially and now we are deleting it."
   ]
  },
  {
   "cell_type": "code",
   "execution_count": 3,
   "id": "92d2529c",
   "metadata": {},
   "outputs": [
    {
     "ename": "NameError",
     "evalue": "name 'no_of_chocolates' is not defined",
     "output_type": "error",
     "traceback": [
      "\u001b[1;31m---------------------------------------------------------------------------\u001b[0m",
      "\u001b[1;31mNameError\u001b[0m                                 Traceback (most recent call last)",
      "\u001b[1;32m<ipython-input-3-a8c69b16b794>\u001b[0m in \u001b[0;36m<module>\u001b[1;34m\u001b[0m\n\u001b[0;32m      1\u001b[0m \u001b[0mno_of_chocolates\u001b[0m \u001b[1;33m=\u001b[0m \u001b[1;36m10\u001b[0m\u001b[1;33m\u001b[0m\u001b[1;33m\u001b[0m\u001b[0m\n\u001b[0;32m      2\u001b[0m \u001b[1;32mdel\u001b[0m \u001b[0mno_of_chocolates\u001b[0m\u001b[1;33m\u001b[0m\u001b[1;33m\u001b[0m\u001b[0m\n\u001b[1;32m----> 3\u001b[1;33m \u001b[0mprint\u001b[0m\u001b[1;33m(\u001b[0m\u001b[0mno_of_chocolates\u001b[0m\u001b[1;33m)\u001b[0m\u001b[1;33m\u001b[0m\u001b[1;33m\u001b[0m\u001b[0m\n\u001b[0m",
      "\u001b[1;31mNameError\u001b[0m: name 'no_of_chocolates' is not defined"
     ]
    }
   ],
   "source": [
    "no_of_chocolates = 10\n",
    "del no_of_chocolates\n",
    "print(no_of_chocolates)"
   ]
  },
  {
   "cell_type": "markdown",
   "id": "1e69e9f7",
   "metadata": {},
   "source": [
    "Using the <font color='red'>del</font> command, we have successfully deleted the variable <font color='red'>no_of_chocolates</font>."
   ]
  },
  {
   "cell_type": "markdown",
   "id": "b7871ce3",
   "metadata": {},
   "source": [
    "### **<ins>8. Object References</ins>**\n",
    "\n",
    "The topic of variables in Python is incomplete without understanding how the Python interpreter works when we declare a variable. It is slightly different when compared to other programming languages.\n",
    "\n",
    "We all know that Python is an object-oriented language. Hence, every object belongs to a specific class.\n",
    "\n",
    "Consider the following example –"
   ]
  },
  {
   "cell_type": "code",
   "execution_count": 7,
   "id": "f419f61e",
   "metadata": {},
   "outputs": [
    {
     "name": "stdout",
     "output_type": "stream",
     "text": [
      "Welcome to India\n",
      "<class 'str'>\n"
     ]
    }
   ],
   "source": [
    "message = \"Welcome to India\"\n",
    "print(message)\n",
    "print(type(message))"
   ]
  },
  {
   "cell_type": "markdown",
   "id": "76865267",
   "metadata": {},
   "source": [
    "We have declared a variable and assigned a string in the above example. Now, we print it to the console first. In the last line of the code, you will notice that we have used the type function.\n",
    "\n",
    "**What is the type function doing?** Let’s take a look –\n",
    "\n",
    "<img src=\"https://scaler.com/topics/images/python-variables-have-their-own-unique-ids-1024x483.webp\" width=\"500\">\n",
    "\n",
    "We can see that a string object is created of the class str! Thus, we can say that variables in Python are symbolic names that point to an object, just like the example we looked at."
   ]
  },
  {
   "cell_type": "markdown",
   "id": "bd0d7184",
   "metadata": {},
   "source": [
    "### **<ins>9. Object Identity</ins>**\n",
    "\n",
    "Now that we have understood that variables in Python point to their respective objects let’s try to understand how objects are uniquely identified.\n",
    "\n",
    "Python ensures that no two variables will have the same identifier or id. The built-in Python function <font color='red'>id()</font> is used to identify the object id or identifier.\n",
    "\n",
    "Let’s consider the same example that we used to understand object references "
   ]
  },
  {
   "cell_type": "code",
   "execution_count": 9,
   "id": "390c5db6",
   "metadata": {},
   "outputs": [
    {
     "name": "stdout",
     "output_type": "stream",
     "text": [
      "2168089334528\n",
      "2168090263280\n"
     ]
    }
   ],
   "source": [
    "message = \"Welcome to India\"\n",
    "final_message = \"Goodbye\"\n",
    "print(id(message))\n",
    "print(id(final_message))"
   ]
  },
  {
   "cell_type": "markdown",
   "id": "d3f87f19",
   "metadata": {},
   "source": [
    "As we can see, we have two different variables- message and final_message. Using the <font color='red'>id()</font> function, we are **trying to see whether these identifiers are unique or not**.\n",
    "\n",
    "Let’s see what we found –\n",
    "\n",
    "Just like we discussed, the two Python variables have their unique ids.\n",
    "\n",
    "<img src=https://scaler.com/topics/images/string-object-python-variable-1024x483.webp width=\"500\">"
   ]
  },
  {
   "cell_type": "markdown",
   "id": "79c08824",
   "metadata": {},
   "source": [
    "## <center><ins>Learning Outcomes:</ins></center>\n",
    "\n",
    "* Variables in Python are named memory locations used to store data.\n",
    "* A variable is used to retrieve the stored data, and its value may change during the program.\n",
    "* We use the “=” operator for value assignment.\n",
    "* There are 2 types of variables in Python -\n",
    "    > Local Variables     \n",
    "    > Globbal Variables\n",
    "* Python automatically deletes variables and functions when they can no longer be used, freeing the memory.\n",
    "* You can manually delete a variable using the <font color='red'>del</font> command in Python."
   ]
  }
 ],
 "metadata": {
  "kernelspec": {
   "display_name": "Python 3",
   "language": "python",
   "name": "python3"
  },
  "language_info": {
   "codemirror_mode": {
    "name": "ipython",
    "version": 3
   },
   "file_extension": ".py",
   "mimetype": "text/x-python",
   "name": "python",
   "nbconvert_exporter": "python",
   "pygments_lexer": "ipython3",
   "version": "3.8.10"
  }
 },
 "nbformat": 4,
 "nbformat_minor": 5
}
