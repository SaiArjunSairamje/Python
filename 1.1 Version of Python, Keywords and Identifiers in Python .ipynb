{
 "cells": [
  {
   "cell_type": "markdown",
   "metadata": {},
   "source": [
    "# <center><ins>Version of Python, Keywords and Identifiers in Python</ins></center>\n",
    "\n",
    "* **Version of Python**\n",
    "    > How to know which version of Python is running in Jupyter notebook?\n",
    "* **Keywords in Python**\n",
    "    > What are Python Keywords?                                               \n",
    "    > How to Identify Keywords in Python?\n",
    "        (1) Python REPL Commands\n",
    "        (2) Python Libraries\n",
    "        (3) iskeyword() function\n",
    "    > Types of Keywords in Python?\n",
    "        (1) Value Keywords\n",
    "        (2) Operator Keywords\n",
    "        (3) Control Flow Keywords\n",
    "        (4) Iteration Keywords\n",
    "        (5) Structural Keywords\n",
    "        (6) Return Keywords\n",
    "        (7) Import Keywords\n",
    "        (8) Exception Handling Keywords\n",
    "        (9) Asynchronous Programming Keywords\n",
    "        (10) Variable Handling Keywords\n",
    "* **Identifiers in Python** \n",
    "    > What are Python Identifiers?                                                   \n",
    "    > Rules for Identifiers in Python\n",
    "    \n",
    "**Source Link:** https://www.scaler.com/topics/python/python-keywords-and-identifiers/"
   ]
  },
  {
   "cell_type": "markdown",
   "metadata": {},
   "source": [
    "## <center><ins>1. Version of Python in your Jupyter Notebook </ins></center>\n",
    "\n",
    "* **How to know which version of Python is running in Jupyter notebook?**"
   ]
  },
  {
   "cell_type": "code",
   "execution_count": 1,
   "metadata": {},
   "outputs": [
    {
     "name": "stdout",
     "output_type": "stream",
     "text": [
      "3.8.10 (default, May 19 2021, 13:12:57) [MSC v.1916 64 bit (AMD64)]\n",
      "sys.version_info(major=3, minor=8, micro=10, releaselevel='final', serial=0)\n"
     ]
    }
   ],
   "source": [
    "import sys\n",
    "print(sys.version)\n",
    "print(sys.version_info)"
   ]
  },
  {
   "cell_type": "markdown",
   "metadata": {},
   "source": [
    "## <center><ins>2. Python Keywords</ins></center>\n",
    "\n",
    "* **What are Python Keywords?**\n",
    "\n",
    "<img src=https://scaler.com/topics/images/what-are-python-keywords-1024x614.webp width=\"700\">\n",
    "\n",
    "Keywords in python are these unique sets of predefined words reserved to perform a specific function or purpose. These keywords are part of the python syntax. Most of them have a purpose very similar to their actual meaning in English. This makes python easy to understand and code.\n",
    "\n",
    "Like built-in functions (i.e. Python has several functions readily available for use once you install python on your PC. These functions are called built-in functions), keywords are also built-in. But, they cannot alter their purpose or naming convention like other built-in functions: ZeroDivisionError, NameError, etc.\n",
    "\n",
    "According to version 3.8 in python, there are 35 keywords that it supports.\n",
    "\n",
    "**To summarize,**\n",
    "\n",
    "> **\"Keywords\"** are the reserved words in python\n",
    "\n",
    "> We can't use a **keyword** as variable name, function name or any other identifier\n",
    "\n",
    "> **Keywords** are case sentive\n",
    "\n",
    "* **How to Identify Keywords in Python?**                                          \n",
    "\n",
    "Keywords keep being added and removed depending on the version of python installed on your system. For example: print and exec were part of version 2.7X of python, but are now built-in functions* and hence removed from the keywords list.\n",
    "\n",
    "There are numerous ways to identify these keywords. Some of them are:\n",
    "\n",
    "      (1) Python REPL Commands\n",
    "      (2) Python Libraries\n",
    "      (3) iskeyword() function\n",
    "\n",
    "**(1) Python REPL Commands:**\n",
    "\n",
    "Python comes installed with its interpreter, the interactive Read-Eval-Print Loop (REPL) environment. Here you can obtain the keywords with the following command:"
   ]
  },
  {
   "cell_type": "code",
   "execution_count": 2,
   "metadata": {},
   "outputs": [
    {
     "name": "stdout",
     "output_type": "stream",
     "text": [
      "\n",
      "Here is a list of the Python keywords.  Enter any keyword to get more help.\n",
      "\n",
      "False               class               from                or\n",
      "None                continue            global              pass\n",
      "True                def                 if                  raise\n",
      "and                 del                 import              return\n",
      "as                  elif                in                  try\n",
      "assert              else                is                  while\n",
      "async               except              lambda              with\n",
      "await               finally             nonlocal            yield\n",
      "break               for                 not                 \n",
      "\n"
     ]
    }
   ],
   "source": [
    "help(\"keywords\")"
   ]
  },
  {
   "cell_type": "markdown",
   "metadata": {},
   "source": [
    "**(2) Python Libraries:**\n",
    "    \n",
    "You can use libraries like kwlist, to get a list of keywords supported by the current version of python you are running the code on."
   ]
  },
  {
   "cell_type": "code",
   "execution_count": 4,
   "metadata": {},
   "outputs": [
    {
     "name": "stdout",
     "output_type": "stream",
     "text": [
      "['False', 'None', 'True', 'and', 'as', 'assert', 'async', 'await', 'break', 'class', 'continue', 'def', 'del', 'elif', 'else', 'except', 'finally', 'for', 'from', 'global', 'if', 'import', 'in', 'is', 'lambda', 'nonlocal', 'not', 'or', 'pass', 'raise', 'return', 'try', 'while', 'with', 'yield']\n"
     ]
    }
   ],
   "source": [
    "import keyword\n",
    "print(keyword.kwlist)"
   ]
  },
  {
   "cell_type": "code",
   "execution_count": 5,
   "metadata": {},
   "outputs": [
    {
     "data": {
      "text/plain": [
       "35"
      ]
     },
     "execution_count": 5,
     "metadata": {},
     "output_type": "execute_result"
    }
   ],
   "source": [
    "len(keyword.kwlist)"
   ]
  },
  {
   "cell_type": "markdown",
   "metadata": {},
   "source": [
    "**(3) iskeyword() function:**\n",
    "    \n",
    "This function is part of the keyword package and is used to check if a term is a python keyword or not."
   ]
  },
  {
   "cell_type": "code",
   "execution_count": 6,
   "metadata": {},
   "outputs": [
    {
     "data": {
      "text/plain": [
       "True"
      ]
     },
     "execution_count": 6,
     "metadata": {},
     "output_type": "execute_result"
    }
   ],
   "source": [
    "import keyword\n",
    "keyword.iskeyword(\"finally\")"
   ]
  },
  {
   "cell_type": "code",
   "execution_count": 7,
   "metadata": {},
   "outputs": [
    {
     "data": {
      "text/plain": [
       "False"
      ]
     },
     "execution_count": 7,
     "metadata": {},
     "output_type": "execute_result"
    }
   ],
   "source": [
    "keyword.iskeyword(\"hi\")"
   ]
  },
  {
   "cell_type": "markdown",
   "metadata": {},
   "source": [
    "* **Types of Keywords in Python**\n",
    "        (1) Value Keywords\n",                   
    "        (2) Operator Keywords\n",                   
    "        (3) Control Flow Keywords\n",                      
    "        (4) Iteration Keywords\n",                   
    "        (5) Structural Keywords\n",                    
    "        (6) Return Keywords\n",                                  
    "        (7) Import Keywords\n",                         
    "        (8) Exception Handling Keywords\n",                                 
    "        (9) Asynchronous Programming Keywords\n",                               
    "        (10) Variable Handling Keywords                                                     \n",
    "\n",
    "**(1) Value Keywords**\n",
    "\n",
    "These python keywords are used to denote values. These values are single values that can be used multiple times and about the same object or variable. These keywords are the only keywords that begin with a capital letter. Let's see the different types of value keywords possessed by python:\n",
    "\n",
    ">**True**\t- Used for assigning the value to a variable or represents the result of a boolean expression evaluating to true\n",
    "\n",
    ">**False**\t- Used for assigning the value to a variable or represents the result of a boolean expression evaluating to false\n",
    "\n",
    ">**None**\t- Represents null, nil, none, undef, or undefined values in python"
   ]
  },
  {
   "cell_type": "code",
   "execution_count": 8,
   "metadata": {},
   "outputs": [
    {
     "data": {
      "text/plain": [
       "True"
      ]
     },
     "execution_count": 8,
     "metadata": {},
     "output_type": "execute_result"
    }
   ],
   "source": [
    "1 == 1"
   ]
  },
  {
   "cell_type": "code",
   "execution_count": 10,
   "metadata": {},
   "outputs": [
    {
     "data": {
      "text/plain": [
       "True"
      ]
     },
     "execution_count": 10,
     "metadata": {},
     "output_type": "execute_result"
    }
   ],
   "source": [
    "True or False"
   ]
  },
  {
   "cell_type": "code",
   "execution_count": 9,
   "metadata": {},
   "outputs": [
    {
     "data": {
      "text/plain": [
       "False"
      ]
     },
     "execution_count": 9,
     "metadata": {},
     "output_type": "execute_result"
    }
   ],
   "source": [
    "3 > 7"
   ]
  },
  {
   "cell_type": "code",
   "execution_count": 11,
   "metadata": {},
   "outputs": [
    {
     "data": {
      "text/plain": [
       "False"
      ]
     },
     "execution_count": 11,
     "metadata": {},
     "output_type": "execute_result"
    }
   ],
   "source": [
    "True and False"
   ]
  },
  {
   "cell_type": "code",
   "execution_count": 12,
   "metadata": {},
   "outputs": [
    {
     "data": {
      "text/plain": [
       "False"
      ]
     },
     "execution_count": 12,
     "metadata": {},
     "output_type": "execute_result"
    }
   ],
   "source": [
    "None == 0"
   ]
  },
  {
   "cell_type": "code",
   "execution_count": 13,
   "metadata": {},
   "outputs": [],
   "source": [
    "x = None"
   ]
  },
  {
   "cell_type": "code",
   "execution_count": 14,
   "metadata": {},
   "outputs": [],
   "source": [
    "y = None"
   ]
  },
  {
   "cell_type": "code",
   "execution_count": 15,
   "metadata": {},
   "outputs": [
    {
     "data": {
      "text/plain": [
       "True"
      ]
     },
     "execution_count": 15,
     "metadata": {},
     "output_type": "execute_result"
    }
   ],
   "source": [
    "x == y"
   ]
  },
  {
   "cell_type": "markdown",
   "metadata": {},
   "source": [
    "**(2) Operator Keywords**\n",
    "\n",
    "Many operators are used as symbols in other languages; on the contrary, python uses keywords for defining these operators. Their function is similar to their literal meaning, making coding in python lucid to understand. Let’s take a look at these keywords:\n",
    "    \n",
    "> **and**\t- AND, Intersection(^)\n",
    "\n",
    "> **or**\t- OR, Union(v)\n",
    "\n",
    "> **not**\t- NOT, Negation (¬)\n",
    "\n",
    "> **in**\t- CONTAINS, (∈)\n",
    "\n",
    "> **is**\t- Checking Identity"
   ]
  },
  {
   "cell_type": "code",
   "execution_count": 17,
   "metadata": {},
   "outputs": [
    {
     "data": {
      "text/plain": [
       "False"
      ]
     },
     "execution_count": 17,
     "metadata": {},
     "output_type": "execute_result"
    }
   ],
   "source": [
    "True and False"
   ]
  },
  {
   "cell_type": "code",
   "execution_count": 18,
   "metadata": {},
   "outputs": [
    {
     "data": {
      "text/plain": [
       "True"
      ]
     },
     "execution_count": 18,
     "metadata": {},
     "output_type": "execute_result"
    }
   ],
   "source": [
    "True or False"
   ]
  },
  {
   "cell_type": "code",
   "execution_count": 19,
   "metadata": {},
   "outputs": [
    {
     "data": {
      "text/plain": [
       "True"
      ]
     },
     "execution_count": 19,
     "metadata": {},
     "output_type": "execute_result"
    }
   ],
   "source": [
    "not False"
   ]
  },
  {
   "cell_type": "code",
   "execution_count": 20,
   "metadata": {},
   "outputs": [],
   "source": [
    "a = \"Scaler DSML\""
   ]
  },
  {
   "cell_type": "code",
   "execution_count": 21,
   "metadata": {},
   "outputs": [
    {
     "data": {
      "text/plain": [
       "True"
      ]
     },
     "execution_count": 21,
     "metadata": {},
     "output_type": "execute_result"
    }
   ],
   "source": [
    "\"Scaler\" in a"
   ]
  },
  {
   "cell_type": "code",
   "execution_count": 22,
   "metadata": {},
   "outputs": [
    {
     "data": {
      "text/plain": [
       "True"
      ]
     },
     "execution_count": 22,
     "metadata": {},
     "output_type": "execute_result"
    }
   ],
   "source": [
    "True is True"
   ]
  },
  {
   "cell_type": "markdown",
   "metadata": {},
   "source": [
    "**(3) Control Flow Keywords**\n",
    "\n",
    "These keywords help us perform conditional logic and execute code given certain conditions. They are commonly used in forming a pipeline on how the code should perform based on decision-making conditions and hence are essential in python. Let's see how these control flow keywords work:\n",
    "\n",
    "> **if**    - Executes the body of code if the expression evaluates to True\n",
    "\n",
    "> **elif**\t- Similar to ‘if’, ‘elif’ is used to execute the body of code if the expression evaluates to True. You can use ‘elif’ only after ‘if’ and multiple times. The function literally translates to ‘ else – if ‘.\n",
    "\n",
    "> **else**\t- Executes the body of code when all of the above expressions gets evaluated to False"
   ]
  },
  {
   "cell_type": "code",
   "execution_count": 26,
   "metadata": {},
   "outputs": [
    {
     "name": "stdout",
     "output_type": "stream",
     "text": [
      "3\n",
      "5\n",
      "enter operation: +, -, *, /\n"
     ]
    }
   ],
   "source": [
    "# My Calculator\n",
    "a = int(input())\n",
    "b = int(input())\n",
    "print ('enter operation: +, -, *, /')"
   ]
  },
  {
   "cell_type": "code",
   "execution_count": 24,
   "metadata": {},
   "outputs": [
    {
     "name": "stdout",
     "output_type": "stream",
     "text": [
      "+\n",
      "8\n"
     ]
    }
   ],
   "source": [
    "opt = input()\n",
    " \n",
    "if opt == '+':\n",
    "    print (a+b)\n",
    "elif opt == '-':\n",
    "    print (a-b)\n",
    "elif opt == '*':\n",
    "    print (a*b)\n",
    "elif opt == '/':\n",
    "    print (a/b)\n",
    "else:\n",
    "    print ('invalid input')"
   ]
  },
  {
   "cell_type": "markdown",
   "metadata": {},
   "source": [
    "**(4) Iteration Keywords**\n",
    "\n",
    "In python programming, these keywords indicate the type of looping initiated. Synonymous with python’s ease of usage, the function of these keywords are literally the same as what we type. Let's see the various types of iteration keywords:\n",
    "\n",
    "> **for**\t- Loops the element according to the condition and executes the body of code until the element is unable to fit in the condition.\n",
    "\n",
    "> **while**\t- Executes body of code until condition is evaluated to False\n",
    "\n",
    "> **break**\t- It exits from the loop if condition2 evaluates to True . Also works with while loop\n",
    "\n",
    "> **continue**\t- Continues the looping if condition2 evaluates to True. Also works with while loop"
   ]
  },
  {
   "cell_type": "code",
   "execution_count": 27,
   "metadata": {},
   "outputs": [
    {
     "name": "stdout",
     "output_type": "stream",
     "text": [
      "5\n",
      "6\n",
      "7\n",
      "8\n",
      "9\n",
      "10\n"
     ]
    }
   ],
   "source": [
    "# Display numbers 5 to 10\n",
    "\n",
    "# for loop example\n",
    "for x in range (5,11):\n",
    "    print (x) "
   ]
  },
  {
   "cell_type": "code",
   "execution_count": 28,
   "metadata": {},
   "outputs": [
    {
     "name": "stdout",
     "output_type": "stream",
     "text": [
      "5\n",
      "6\n",
      "7\n",
      "8\n",
      "9\n",
      "10\n"
     ]
    }
   ],
   "source": [
    "n = 5\n",
    "\n",
    "# while loop example\n",
    "while n < 11:          \n",
    "    print(n)\n",
    "    n+=1"
   ]
  },
  {
   "cell_type": "markdown",
   "metadata": {},
   "source": [
    "**(5) Structural Keywords**\n",
    "\n",
    "We use various keywords in python to define the structure of certain pieces of code. These keywords are very often used to make code modular and understandable. Let’s take a look at these functions and their uses:\n",
    "\n",
    "> **def**\t- Defines the beginning of a function in python\n",
    "\n",
    "> **class**\t- Defines the beginning of a class in python\n",
    "\n",
    "> **with**\t- We use with to run codes within the context manager functions. Like: reading and writing of files\n",
    "\n",
    "> **as**\t- It is used to provide an alias to modules, functions, etc.\n",
    "\n",
    "> **pass**\t- Used with functions classes, if-else statements, etc. to indicate ‘no – operation’ taking place\n",
    "\n",
    "> **lambda** - It is used to create a nameless function. It is an inline function that does not contain a return statement."
   ]
  },
  {
   "cell_type": "markdown",
   "metadata": {},
   "source": [
    "**(6) Return Keywords**\n",
    "\n",
    "These keywords help us give out results of functions. They are essential keywords that help us determine with what value must exist the function. Let’s take a look at its functionalities.\n",
    "\n",
    "> **return** - Returns the statement when this function is called\n",
    "\n",
    "> **yield**\t- Through yield we can have numerous return statements which will perform sequentially using the in built next() function in python"
   ]
  },
  {
   "cell_type": "markdown",
   "metadata": {},
   "source": [
    "**(7) Import Keywords**\n",
    "\n",
    "There are many useful packages and libraries in python that can be installed and used to form your code that is not available in the installed version of python. These libraries can be used in the codebase using the following keywords:\n",
    "\n",
    "> **import** - Imports all functions of the specified modules to be used in the python file’s execution.\n",
    "\n",
    "> **from** - The from keyword is used together with import to import specific functions from a module.\n",
    "\n",
    "> **as** - Import module with a alias"
   ]
  },
  {
   "cell_type": "markdown",
   "metadata": {},
   "source": [
    "**(8) Exception Handling Keywords**\n",
    "\n",
    "The following keywords are used to raise and catch exceptions in python. Let’s take a look at these keywords and their functions:\n",
    "\n",
    "> **try**\t- Initiates try block where the statement is executed if there is no exception\n",
    "\n",
    "> **except** - Specifies the type of exception that should occur and what subsequent statements should execute\n",
    "\n",
    "> **raise** - This statement can be used to raise a particular exception to any block of code\n",
    "\n",
    "> **finally** - Finally defines a piece of code that should run no matter what\n",
    "\n",
    "> **assert** - An assert statement will result in performing no operation if the expression is executed as truthful, and it will raise an AssertionError if the expression is executed as False."
   ]
  },
  {
   "cell_type": "markdown",
   "metadata": {},
   "source": [
    "**(9) Asynchronous Programming Keywords**\n",
    "\n",
    "In python, to perform asynchronous programming, we used keywords defining these functions: async and await. Let’s take a look\n",
    "\n",
    "> **async** - Indicates that the following function needs to run asynchronously\n",
    "\n",
    "> **await** - It is used in asynchronous functions to specify a point in the function where control is given back to the event loop for other functions to run"
   ]
  },
  {
   "cell_type": "markdown",
   "metadata": {},
   "source": [
    "**(10) Variable Handling Keywords**\n",
    "\n",
    "These keywords are used to do manipulations on python variables. Let's take a look at their functionality and syntax.\n",
    "\n",
    "> **del** - The keyword is used to reset the variable to an unused one\n",
    "\n",
    "> **global** - The keyword specifies that the variable is pulled from global scope\n",
    "\n",
    "> **nonlocal** - Similar to global, this keyword specifies that the variable has been pulled from parent scope"
   ]
  },
  {
   "cell_type": "markdown",
   "metadata": {},
   "source": [
    "## <center><ins>3. Python Identifiers</ins></center>"
   ]
  },
  {
   "cell_type": "markdown",
   "metadata": {},
   "source": [
    "* **What are Python Identifiers?**\n",
    "\n",
    "An identifier is a name given to entities like variables, class, functions, etc. It helps to differentiate one entity from another and understand the flow of entities in code.\n",
    "\n",
    "**To summarize,**\n",
    "> **\"Identifer\"** is nothing but **some rules & regulations on naming a variable, function, class, module or other object.**\n",
    "\n",
    "> **Variables** are the example of **identifiers**. An **Identifier** is used to identify the **literals** (i.e. the values) used in the program.   \n",
    "\n",
    "**<ins>Example:</ins>** x = 5, in this example case, we can see that:\n",
    "\n",
    "x is the **Identifier** (i.e. the **variable** in this case)                                                                              \n",
    "= is the **Assignment operator**                                                                                                      \n",
    "5 is the **Literal**\n",
    "\n",
    "* **Rules for Identifiers in Python:**\n",
    "\n",
    "> The first character of the variable must be an **alphabet** or **underscore (_)**. That it, it **cannot** be a **digit**.\n",
    "\n",
    "> All the characters except the first character may be an alphabet of **lowercase(a-z), uppercase (A-Z), underscore** or **digit (0-9)**.\n",
    "\n",
    "> **Identifier** name must **not** contain any **white-space** (i.e. no empty space b/w the variable), or **special character (!, @, #, %, ^, &, *)**.\n",
    "\n",
    "> **Identifier** names are **case sensitive**. For example my name, and MyName is not the same (i.e. the Lower Case ASCII value is different from the Capital ASCII value).\n",
    "\n",
    "> **Keywords** cannot be used as identifiers.\n",
    "\n",
    "**<ins>Example of Python Identifiers<ins>**\n",
    "\n",
    "<img src=https://scaler.com/topics/images/example-of-python-identifiers.webp width=\"500\">"
   ]
  },
  {
   "cell_type": "code",
   "execution_count": 30,
   "metadata": {},
   "outputs": [
    {
     "ename": "SyntaxError",
     "evalue": "invalid syntax (<ipython-input-30-ad61d0e96408>, line 2)",
     "output_type": "error",
     "traceback": [
      "\u001b[1;36m  File \u001b[1;32m\"<ipython-input-30-ad61d0e96408>\"\u001b[1;36m, line \u001b[1;32m2\u001b[0m\n\u001b[1;33m    global = 1\u001b[0m\n\u001b[1;37m           ^\u001b[0m\n\u001b[1;31mSyntaxError\u001b[0m\u001b[1;31m:\u001b[0m invalid syntax\n"
     ]
    }
   ],
   "source": [
    "# keyword not allowed as an identifier\n",
    "global = 1        "
   ]
  },
  {
   "cell_type": "code",
   "execution_count": 31,
   "metadata": {},
   "outputs": [
    {
     "ename": "SyntaxError",
     "evalue": "invalid syntax (<ipython-input-31-72fa599e00a2>, line 2)",
     "output_type": "error",
     "traceback": [
      "\u001b[1;36m  File \u001b[1;32m\"<ipython-input-31-72fa599e00a2>\"\u001b[1;36m, line \u001b[1;32m2\u001b[0m\n\u001b[1;33m    a@ = 10\u001b[0m\n\u001b[1;37m       ^\u001b[0m\n\u001b[1;31mSyntaxError\u001b[0m\u001b[1;31m:\u001b[0m invalid syntax\n"
     ]
    }
   ],
   "source": [
    "# can't use special symbols as an identifier\n",
    "a@ = 10             "
   ]
  },
  {
   "cell_type": "code",
   "execution_count": 32,
   "metadata": {},
   "outputs": [
    {
     "data": {
      "text/plain": [
       "99"
      ]
     },
     "execution_count": 32,
     "metadata": {},
     "output_type": "execute_result"
    }
   ],
   "source": [
    "# Example of Lower Case ASCII value being different from the Capital ASCII value\n",
    "ord('c')"
   ]
  },
  {
   "cell_type": "code",
   "execution_count": 33,
   "metadata": {},
   "outputs": [
    {
     "data": {
      "text/plain": [
       "67"
      ]
     },
     "execution_count": 33,
     "metadata": {},
     "output_type": "execute_result"
    }
   ],
   "source": [
    "ord('C')"
   ]
  },
  {
   "cell_type": "markdown",
   "metadata": {},
   "source": [
    "If you are taking any **variable name**, then try to corelate with its functionality (**<ins>NOTE:</ins>** use Camel case (i.e. **camelCase** or **CamelCase**))"
   ]
  },
  {
   "cell_type": "code",
   "execution_count": 8,
   "metadata": {},
   "outputs": [],
   "source": [
    "firstName = 'Abhishek'"
   ]
  }
 ],
 "metadata": {
  "kernelspec": {
   "display_name": "Python 3",
   "language": "python",
   "name": "python3"
  },
  "language_info": {
   "codemirror_mode": {
    "name": "ipython",
    "version": 3
   },
   "file_extension": ".py",
   "mimetype": "text/x-python",
   "name": "python",
   "nbconvert_exporter": "python",
   "pygments_lexer": "ipython3",
   "version": "3.8.10"
  }
 },
 "nbformat": 4,
 "nbformat_minor": 2
}
